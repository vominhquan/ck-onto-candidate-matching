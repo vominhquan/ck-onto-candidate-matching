{
 "cells": [
  {
   "cell_type": "code",
   "execution_count": 1,
   "metadata": {},
   "outputs": [],
   "source": [
    "import numpy as np"
   ]
  },
  {
   "cell_type": "code",
   "execution_count": 2,
   "metadata": {},
   "outputs": [],
   "source": [
    "SKILLS = [\"JS\", 'Javascript', \"NodeJS\", \"Node JS\", \"Node.JS\", \\\n",
    "          \"Python\", \"Python 2\", \"Python 3\", \"Django\", \"Flask\", \\\n",
    "          \"HTML\", \"HTML5\", \"CSS\", \"CSS3\",\\\n",
    "         \"Random Forest\", \"SVM\", \"Support Vector Machine\", \"Neural Network\", \"Machine Learning\"]"
   ]
  },
  {
   "cell_type": "code",
   "execution_count": 3,
   "metadata": {},
   "outputs": [],
   "source": [
    "RELS = [\n",
    "    (\"NodeJS\", (\"R1\", 1, 1), \"Node JS\"), (\"Node JS\", (\"R1\", 1, 1), \"Node.JS\"),\n",
    "    (\"JS\", (\"R2\", 1, 1), \"Javascript\"), (\"SVM\", (\"R2\", 1, 1), \"Support Vector Machine\"),\n",
    "    (\"Random Forest\", (\"R3\", 0.2, 1), \"Machine Learning\"), (\"Support Vector Machine\", (\"R3\", 0.3, 1), \"Machine Learning\"), (\"Neural Network\", (\"R3\", 0.4, 1), \"Machine Learning\"),\n",
    "    (\"Python 2\", (\"R5\", 1, 0.9), \"Python\"), (\"Python 3\", (\"R5\", 0.9, 0.9), \"Python 2\"), (\"HTML5\", (\"R5\", 1, 1), \"HTML\"), (\"CSS\", (\"R5\", 1, 1), \"CSS3\"),\n",
    "    (\"Django\", (\"R7\", 1, 0.2), \"Python\"), (\"Flask\", (\"R7\", 1, 0.4), \"Python\"), (\"Node JS\", (\"R7\", 1, 0.3), \"Javascript\"),\n",
    "]"
   ]
  },
  {
   "cell_type": "code",
   "execution_count": 4,
   "metadata": {},
   "outputs": [],
   "source": [
    "def get_rel(A, B):\n",
    "    for a, rel, b in RELS:\n",
    "        if a == A and b == B:\n",
    "            return rel[1]\n",
    "        if a == B and b == A:\n",
    "            return rel[2]\n",
    "    return None\n",
    "\n",
    "def get_rel_type(A, B):\n",
    "    for a, rel, b in RELS:\n",
    "        if (a == A and b == B) or (a == B and b == A):\n",
    "            return rel[0]\n",
    "    return None\n",
    "\n",
    "def rel_exist(skill, target_skill):\n",
    "    for skill_A, rel, skill_B in RELS:\n",
    "        if len(set([skill_A, skill_B]) - set([skill, target_skill])) == 0:\n",
    "            return True\n",
    "    return False"
   ]
  },
  {
   "cell_type": "code",
   "execution_count": 10,
   "metadata": {},
   "outputs": [],
   "source": [
    "def compute_same_level_score(bridge_skill):\n",
    "    same_level_scores = []\n",
    "    for _, score, rel_type in bridge_skill:\n",
    "        if rel_type in ['R1', 'R2', 'R5', 'R6', 'R7']:\n",
    "            same_level_scores.append(score)\n",
    "    same_level_score = max(same_level_scores) if same_level_scores else 0\n",
    "    return same_level_score\n",
    "\n",
    "def compute_hierarchical_score(bridge_skill):\n",
    "    hierarchical_scores = []\n",
    "    for check_rel_type in ['R3', 'R4']:\n",
    "        score = sum([score for _, score, rel_type in bridge_skill if rel_type==check_rel_type])\n",
    "        score = min(score, 1)\n",
    "        hierarchical_scores.append(score)\n",
    "    hierarchical_score = max(hierarchical_scores) if hierarchical_scores else 0\n",
    "    return hierarchical_score"
   ]
  },
  {
   "cell_type": "code",
   "execution_count": 27,
   "metadata": {},
   "outputs": [],
   "source": [
    "def infer_skill(candidate, debug=False):\n",
    "    expanded_skills = candidate.copy()\n",
    "    for depth in range(10): # expanding depth\n",
    "        number_of_current_skills = len(expanded_skills) # for early stop\n",
    "        for target_skill in SKILLS:\n",
    "            bridge_skill = []\n",
    "            if target_skill in list(expanded_skills.keys()):\n",
    "                continue\n",
    "            for skill, exp in list(expanded_skills.items()):\n",
    "                for skill, exp in list(expanded_skills.items()):\n",
    "                    if rel_exist(skill, target_skill):\n",
    "                        bridge_skill.append((skill, exp*get_rel(skill, target_skill), get_rel_type(skill, target_skill)))\n",
    "\n",
    "            if bridge_skill:\n",
    "                # check same-level relationships\n",
    "                same_level_score = compute_same_level_score(bridge_skill)\n",
    "                # check hierarchical relationships\n",
    "                hierarchical_score = compute_hierarchical_score(bridge_skill)\n",
    "                expanded_skills[target_skill] = max(same_level_score, hierarchical_score)\n",
    "                if debug:\n",
    "                    print(\"{}: {}\".format(target_skill, max(same_level_score, hierarchical_score)))\n",
    "                \n",
    "        if len(expanded_skills) == number_of_current_skills:\n",
    "            break\n",
    "    return expanded_skills"
   ]
  },
  {
   "cell_type": "code",
   "execution_count": 48,
   "metadata": {},
   "outputs": [],
   "source": [
    "def get_matching_score(candidate, requirement):\n",
    "    skill_scores = []\n",
    "    for req_skill, req_exp in requirement.items():\n",
    "        if req_skill in candidate:\n",
    "            skill_scores.append(min(1, candidate[req_skill]/req_exp))\n",
    "        else:\n",
    "            skill_scores.append(0)        \n",
    "    return np.mean(skill_scores)"
   ]
  },
  {
   "cell_type": "code",
   "execution_count": 49,
   "metadata": {},
   "outputs": [],
   "source": [
    "req_1 = { 'JS': 5, 'CSS': 5, 'Python': 2 }\n",
    "req_2 = { \"Python\": 3, \"Machine Learning\": 3 }\n",
    "reqs = [req_1, req_2]\n",
    "\n",
    "cand_1 = { 'Node.JS': 4, 'CSS': 4 }\n",
    "cand_2 = { 'Django': 5, 'Random Forest': 1 }\n",
    "cand_3 = { 'Python 3': 5, 'Javascript': 2 }\n",
    "candidates = [cand_1, cand_2, cand_3]"
   ]
  },
  {
   "cell_type": "code",
   "execution_count": 53,
   "metadata": {},
   "outputs": [
    {
     "name": "stdout",
     "output_type": "stream",
     "text": [
      "======== Job 1\n",
      "+++ Person 1 before/after inference: 0.26666666666666666 -> 0.5333333333333333\n",
      "+++ Person 2 before/after inference: 0.0 -> 0.3333333333333333\n",
      "+++ Person 3 before/after inference: 0.0 -> 0.4666666666666666\n",
      "======== Job 2\n",
      "+++ Person 1 before/after inference: 0.0 -> 0.0\n",
      "+++ Person 2 before/after inference: 0.0 -> 0.6666666666666666\n",
      "+++ Person 3 before/after inference: 0.0 -> 0.5\n"
     ]
    }
   ],
   "source": [
    "for i, req in enumerate(reqs):\n",
    "    print('======== Job', i+1)\n",
    "    for j, candidate in enumerate(candidates):\n",
    "        expanded_skills = infer_skill(candidate, False)\n",
    "        before_score = get_matching_score(candidate, req)\n",
    "        after_score = get_matching_score(expanded_skills, req)\n",
    "        print('+++ Person {} before/after inference: {} -> {}'.format(j+1, before_score, after_score))"
   ]
  },
  {
   "cell_type": "code",
   "execution_count": null,
   "metadata": {},
   "outputs": [],
   "source": []
  },
  {
   "cell_type": "code",
   "execution_count": null,
   "metadata": {},
   "outputs": [],
   "source": []
  }
 ],
 "metadata": {
  "kernelspec": {
   "display_name": "Python 3",
   "language": "python",
   "name": "python3"
  },
  "language_info": {
   "codemirror_mode": {
    "name": "ipython",
    "version": 3
   },
   "file_extension": ".py",
   "mimetype": "text/x-python",
   "name": "python",
   "nbconvert_exporter": "python",
   "pygments_lexer": "ipython3",
   "version": "3.7.3"
  }
 },
 "nbformat": 4,
 "nbformat_minor": 2
}
